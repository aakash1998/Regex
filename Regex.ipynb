{
 "cells": [
  {
   "cell_type": "markdown",
   "id": "bdba7380",
   "metadata": {},
   "source": [
    "# What is a regular expression?"
   ]
  },
  {
   "cell_type": "markdown",
   "id": "7f13ec89",
   "metadata": {},
   "source": [
    "Short for regular expression, a regex is a string of text that allows you to create patterns that help match, locate, and manage text.\n",
    "\n",
    "The python module **re** helps to work with regular expressions."
   ]
  },
  {
   "cell_type": "code",
   "execution_count": 1,
   "id": "5355d2a7",
   "metadata": {},
   "outputs": [],
   "source": [
    "import re"
   ]
  },
  {
   "cell_type": "markdown",
   "id": "c9f44e88",
   "metadata": {},
   "source": [
    "### Finding the word in a string."
   ]
  },
  {
   "cell_type": "markdown",
   "id": "15d8a1cf",
   "metadata": {},
   "source": [
    "#### Example 1"
   ]
  },
  {
   "cell_type": "code",
   "execution_count": 2,
   "id": "965110c1",
   "metadata": {},
   "outputs": [],
   "source": [
    "Nameage = '''\n",
    "Janice is 33 and Jhon is 34\n",
    "Max is 48 and Ben is 49\n",
    "Hanna is 10 and Princy is 57\n",
    "'''"
   ]
  },
  {
   "cell_type": "code",
   "execution_count": 8,
   "id": "8613b13c",
   "metadata": {},
   "outputs": [],
   "source": [
    "age = re.findall(r'\\d{1,3}' , Nameage) # \\d is used to match any decimal digit from (0-9)\n",
    "name = re.findall(r'[A-Z][a-z]*' , Nameage)"
   ]
  },
  {
   "cell_type": "code",
   "execution_count": 9,
   "id": "288158bb",
   "metadata": {},
   "outputs": [
    {
     "name": "stdout",
     "output_type": "stream",
     "text": [
      "{'Janice': '33', 'Jhon': '34', 'Max': '48', 'Ben': '49', 'Hanna': '10', 'Princy': '57'}\n"
     ]
    }
   ],
   "source": [
    "ageDict = {}\n",
    "x = 0\n",
    "\n",
    "for i in name:\n",
    "    ageDict[i] = age[x]\n",
    "    x+= 1\n",
    "print(ageDict)"
   ]
  },
  {
   "cell_type": "markdown",
   "id": "d12622ad",
   "metadata": {},
   "source": [
    "#### Example 2"
   ]
  },
  {
   "cell_type": "code",
   "execution_count": 10,
   "id": "5e42455b",
   "metadata": {},
   "outputs": [
    {
     "name": "stdout",
     "output_type": "stream",
     "text": [
      "True\n"
     ]
    }
   ],
   "source": [
    "if re.search(\"informed\" , \"He was informed about the event yesterday\"):\n",
    "    print(\"True\")"
   ]
  },
  {
   "cell_type": "markdown",
   "id": "b8ecd1ee",
   "metadata": {},
   "source": [
    "#### Example 3"
   ]
  },
  {
   "cell_type": "code",
   "execution_count": 11,
   "id": "4dffe731",
   "metadata": {},
   "outputs": [
    {
     "name": "stdout",
     "output_type": "stream",
     "text": [
      "inform\n",
      "inform\n",
      "inform\n"
     ]
    }
   ],
   "source": [
    "allinform = re.findall(\"inform\" , \"Rahul was informed. ALex has information. I will inform him tonight.\")\n",
    "\n",
    "for i in allinform:\n",
    "    print(i)"
   ]
  },
  {
   "cell_type": "markdown",
   "id": "dee5c7b4",
   "metadata": {},
   "source": [
    "### Using the finditer() function to get the starting and the ending index of the word we are searching for."
   ]
  },
  {
   "cell_type": "code",
   "execution_count": 13,
   "id": "3751f90f",
   "metadata": {},
   "outputs": [
    {
     "name": "stdout",
     "output_type": "stream",
     "text": [
      "(10, 16)\n",
      "(29, 35)\n",
      "(49, 55)\n"
     ]
    }
   ],
   "source": [
    "str = \"Rahul was informed. ALex has information. I will inform him tonight.\"\n",
    "\n",
    "for i in re.finditer(\"inform\" , str):\n",
    "    loctup = i.span()\n",
    "    print(loctup)"
   ]
  },
  {
   "cell_type": "markdown",
   "id": "593b2f95",
   "metadata": {},
   "source": [
    "So as we can see above that tht finditer function has given the index of all the words with the letter inform in it."
   ]
  },
  {
   "cell_type": "markdown",
   "id": "c1f16d48",
   "metadata": {},
   "source": [
    "### Matching words with pattern"
   ]
  },
  {
   "cell_type": "code",
   "execution_count": 19,
   "id": "6fc5f25c",
   "metadata": {},
   "outputs": [
    {
     "name": "stdout",
     "output_type": "stream",
     "text": [
      "hat\n",
      "mat\n",
      "pat\n",
      "hat\n",
      "cat\n",
      "bat\n",
      "dat\n"
     ]
    }
   ],
   "source": [
    "str = (\"Sat , hat , mat , pat , chat , cat , bat , dat\")\n",
    "allstr = re.findall(\"[shmpcbd]at\" , str)\n",
    "\n",
    "for i in allstr:\n",
    "    print(i)\n"
   ]
  },
  {
   "cell_type": "code",
   "execution_count": 23,
   "id": "bb5603ed",
   "metadata": {},
   "outputs": [
    {
     "name": "stdout",
     "output_type": "stream",
     "text": [
      "hat\n",
      "mat\n",
      "hat\n"
     ]
    }
   ],
   "source": [
    "str = (\"sat , hat , mat , pat , chat , cat , bat , dat\")\n",
    "allstr = re.findall(\"[h-m]at\" , str) #prints all the words in the range h-m\n",
    "\n",
    "for i in allstr:\n",
    "    print(i)"
   ]
  },
  {
   "cell_type": "code",
   "execution_count": 25,
   "id": "405a8c4c",
   "metadata": {},
   "outputs": [
    {
     "name": "stdout",
     "output_type": "stream",
     "text": [
      "sat\n",
      "pat\n",
      "cat\n",
      "bat\n",
      "dat\n"
     ]
    }
   ],
   "source": [
    "str = (\"sat , hat , mat , pat , chat , cat , bat , dat\")\n",
    "allstr = re.findall(\"[^h-m]at\" , str) #excludes all the words in the range h-m\n",
    "\n",
    "for i in allstr:\n",
    "    print(i)"
   ]
  },
  {
   "cell_type": "markdown",
   "id": "9a541359",
   "metadata": {},
   "source": [
    "### Replacing a string."
   ]
  },
  {
   "cell_type": "code",
   "execution_count": 28,
   "id": "60a2a7c3",
   "metadata": {},
   "outputs": [
    {
     "name": "stdout",
     "output_type": "stream",
     "text": [
      "sat , food , hat , mat , bat\n"
     ]
    }
   ],
   "source": [
    "# here we want to replace the word rat with the word food.\n",
    "food = \"sat , rat , hat , mat , bat\"\n",
    "regex = re.compile(\"[r]at\")\n",
    "food = regex.sub(\"food\",food)\n",
    "print(food)"
   ]
  },
  {
   "cell_type": "markdown",
   "id": "df499c4d",
   "metadata": {},
   "source": [
    "### Backshlash problem"
   ]
  },
  {
   "cell_type": "code",
   "execution_count": 30,
   "id": "475fbe92",
   "metadata": {},
   "outputs": [
    {
     "name": "stdout",
     "output_type": "stream",
     "text": [
      "Hello, \\kitty\n"
     ]
    }
   ],
   "source": [
    "str = \"Hello, \\\\kitty\"\n",
    "print(str)"
   ]
  },
  {
   "cell_type": "markdown",
   "id": "40c8ad8b",
   "metadata": {},
   "source": [
    "So here we can see that only one backslash is printed. This can be sloved by using regex."
   ]
  },
  {
   "cell_type": "code",
   "execution_count": 32,
   "id": "b1919ccb",
   "metadata": {},
   "outputs": [
    {
     "name": "stdout",
     "output_type": "stream",
     "text": [
      "<re.Match object; span=(7, 13), match='\\\\kitty'>\n"
     ]
    }
   ],
   "source": [
    "str = \"Hello, \\\\kitty\"\n",
    "print(re.search(r\"\\\\kitty\" , str))"
   ]
  },
  {
   "cell_type": "markdown",
   "id": "363dcbf0",
   "metadata": {},
   "source": [
    "So now we can see that the both of the backshlash has been printed."
   ]
  },
  {
   "cell_type": "markdown",
   "id": "e67e1199",
   "metadata": {},
   "source": [
    "### Dealing with the white spaces"
   ]
  },
  {
   "cell_type": "code",
   "execution_count": 34,
   "id": "4bcdbde6",
   "metadata": {},
   "outputs": [
    {
     "name": "stdout",
     "output_type": "stream",
     "text": [
      "\n",
      "Keep the blue\n",
      "flag fyling high\n",
      "Team India\n",
      "\n"
     ]
    }
   ],
   "source": [
    "randstr = \"\"\"\n",
    "Keep the blue\n",
    "flag fyling high\n",
    "Team India\n",
    "\"\"\"\n",
    "print(randstr)"
   ]
  },
  {
   "cell_type": "code",
   "execution_count": 36,
   "id": "01e87ea1",
   "metadata": {},
   "outputs": [
    {
     "name": "stdout",
     "output_type": "stream",
     "text": [
      " Keep the blue flag fyling high Team India \n"
     ]
    }
   ],
   "source": [
    "randstr = \"\"\"\n",
    "Keep the blue\n",
    "flag fyling high\n",
    "Team India\n",
    "\"\"\"\n",
    "regex = re.compile(\"\\n\")\n",
    "randstr = regex.sub(\" \" , randstr)\n",
    "print(randstr)"
   ]
  },
  {
   "cell_type": "markdown",
   "id": "a5944050",
   "metadata": {},
   "source": [
    "### Matching a specific number"
   ]
  },
  {
   "cell_type": "code",
   "execution_count": 40,
   "id": "6ad54336",
   "metadata": {},
   "outputs": [
    {
     "name": "stdout",
     "output_type": "stream",
     "text": [
      "Mathes all numbers : 5\n",
      "Matches anything but not a number :  4\n"
     ]
    }
   ],
   "source": [
    "string = \"12345good\"\n",
    "\n",
    "print(\"Mathes all numbers :\", len(re.findall(\"\\d\" , string)))\n",
    "\n",
    "print(\"Matches anything but not a number : \" , len(re.findall(\"\\D\" , string)))"
   ]
  },
  {
   "cell_type": "code",
   "execution_count": 42,
   "id": "d3a77807",
   "metadata": {},
   "outputs": [
    {
     "name": "stdout",
     "output_type": "stream",
     "text": [
      "No of matches : 19\n"
     ]
    }
   ],
   "source": [
    "string1 = '355399253652937423592394723472593472035693247385690350396'\n",
    "\n",
    "print(\"No of matches :\" , len(re.findall(\"\\d{3}\" , string1)))"
   ]
  },
  {
   "cell_type": "code",
   "execution_count": 46,
   "id": "5a04a587",
   "metadata": {},
   "outputs": [
    {
     "name": "stdout",
     "output_type": "stream",
     "text": [
      "Matches 13\n"
     ]
    }
   ],
   "source": [
    "string2 = '123 1234 12345 123456 1234567 12345678 123456789 1234567890 32142 34253 4644 245363 2353463 236438 837'\n",
    "\n",
    "print(\"Matches\" , len(re.findall(\"\\d{4,7}\" , string2)))"
   ]
  },
  {
   "cell_type": "markdown",
   "id": "d08b1980",
   "metadata": {},
   "source": [
    "### Verfying phone numbers using regex"
   ]
  },
  {
   "cell_type": "code",
   "execution_count": 48,
   "id": "3cc10323",
   "metadata": {},
   "outputs": [],
   "source": [
    "# \\w : This will match anything that is inside the bracket. [A-Za-z0-9]\n",
    "# \\W : This will match anything but what is inside the bracket. This is the same as using a carret(^) inside a bracket."
   ]
  },
  {
   "cell_type": "code",
   "execution_count": 52,
   "id": "9afd1863",
   "metadata": {},
   "outputs": [
    {
     "name": "stdout",
     "output_type": "stream",
     "text": [
      "123-345-2345\n",
      "234-532-5234\n",
      "345-345-3453\n"
     ]
    }
   ],
   "source": [
    "phone = \"\"\"\n",
    "123-345-2345\n",
    "234-532-5234\n",
    "2343-243-225\n",
    "53-2432-5234\n",
    "345-345-3453\n",
    "\"\"\"\n",
    "\n",
    "validphn = re.findall(\"\\d{3}-\\d{3}-\\d{4}\" , phone)\n",
    "\n",
    "for i in validphn:\n",
    "    print(i)\n",
    "\n",
    "# if re.findall(\"\\d{3}-\\d{3}-\\d{4}\" ,phone):\n",
    "#     print(\"It is a valid phone nummber\")\n",
    "# else:\n",
    "#     print(\"It is not a valid phone number\")"
   ]
  },
  {
   "cell_type": "markdown",
   "id": "fa77e5c6",
   "metadata": {},
   "source": [
    "### Validating Name using regex"
   ]
  },
  {
   "cell_type": "code",
   "execution_count": 53,
   "id": "55593cd6",
   "metadata": {},
   "outputs": [
    {
     "name": "stdout",
     "output_type": "stream",
     "text": [
      "Full name is valid\n"
     ]
    }
   ],
   "source": [
    "if re.search(\"\\w{2,20}\\S\\w{2,20}\" , \"Aakash Patel\"):\n",
    "    print(\"Full name is valid\")"
   ]
  },
  {
   "cell_type": "code",
   "execution_count": null,
   "id": "876050bb",
   "metadata": {},
   "outputs": [],
   "source": []
  }
 ],
 "metadata": {
  "kernelspec": {
   "display_name": "Python 3 (ipykernel)",
   "language": "python",
   "name": "python3"
  },
  "language_info": {
   "codemirror_mode": {
    "name": "ipython",
    "version": 3
   },
   "file_extension": ".py",
   "mimetype": "text/x-python",
   "name": "python",
   "nbconvert_exporter": "python",
   "pygments_lexer": "ipython3",
   "version": "3.9.7"
  }
 },
 "nbformat": 4,
 "nbformat_minor": 5
}
